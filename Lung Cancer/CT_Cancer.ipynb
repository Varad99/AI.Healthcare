{
  "nbformat": 4,
  "nbformat_minor": 0,
  "metadata": {
    "colab": {
      "name": "CT Cancer.ipynb",
      "provenance": [],
      "collapsed_sections": []
    },
    "kernelspec": {
      "display_name": "Python 3",
      "name": "python3"
    },
    "language_info": {
      "name": "python"
    }
  },
  "cells": [
    {
      "cell_type": "code",
      "metadata": {
        "id": "T4kLXaWak6Mx"
      },
      "source": [
        "# import the libraries as shown below\n",
        "\n",
        "from keras.layers import Input, Lambda, Dense, Flatten\n",
        "from keras.models import Model\n",
        "#from keras.applications.resnet50 import ResNet50\n",
        "from keras.applications.vgg16 import VGG16\n",
        "from keras.applications.vgg16 import preprocess_input\n",
        "from keras.preprocessing import image\n",
        "from keras.preprocessing.image import ImageDataGenerator\n",
        "from keras.models import Sequential\n",
        "import numpy as np\n",
        "from glob import glob\n",
        "import matplotlib.pyplot as plt\n",
        "import shutil \n",
        "from keras.preprocessing.image import ImageDataGenerator, load_img, img_to_array, array_to_img\n",
        "#from tensorflow.keras.layers import Dense, Flatten"
      ],
      "execution_count": null,
      "outputs": []
    },
    {
      "cell_type": "code",
      "metadata": {
        "id": "MwEdufbslBWx"
      },
      "source": [
        "IMAGE_SIZE = [224, 224]\n",
        "\n",
        "train_path = '/content/drive/MyDrive/The IQ-OTHNCCD lung cancer dataset/Train'\n",
        "test_path = '/content/drive/MyDrive/The IQ-OTHNCCD lung cancer dataset/Test'\n",
        "valid_path = '/content/drive/MyDrive/The IQ-OTHNCCD lung cancer dataset/Validate'"
      ],
      "execution_count": null,
      "outputs": []
    },
    {
      "cell_type": "code",
      "metadata": {
        "colab": {
          "base_uri": "https://localhost:8080/"
        },
        "id": "mUo_XdE0lFSF",
        "outputId": "f648b4f0-7377-4f48-d4f4-ebb12bc0c581"
      },
      "source": [
        "# Import the Vgg 16 library as shown below and add preprocessing layer to the front of VGG\n",
        "# Here we will be using imagenet weights\n",
        "\n",
        "vgg = VGG16(input_shape=IMAGE_SIZE + [3], weights='imagenet', include_top=False)"
      ],
      "execution_count": null,
      "outputs": [
        {
          "output_type": "stream",
          "text": [
            "Downloading data from https://storage.googleapis.com/tensorflow/keras-applications/vgg16/vgg16_weights_tf_dim_ordering_tf_kernels_notop.h5\n",
            "58892288/58889256 [==============================] - 0s 0us/step\n",
            "58900480/58889256 [==============================] - 0s 0us/step\n"
          ],
          "name": "stdout"
        }
      ]
    },
    {
      "cell_type": "code",
      "metadata": {
        "id": "T7fVNGvOlHiU"
      },
      "source": [
        "for layer in vgg.layers:\n",
        "    layer.trainable = False"
      ],
      "execution_count": null,
      "outputs": []
    },
    {
      "cell_type": "code",
      "metadata": {
        "id": "zm_U9SWQlKrw"
      },
      "source": [
        "folders = glob('/content/drive/MyDrive/The IQ-OTHNCCD lung cancer dataset/Train/*')"
      ],
      "execution_count": null,
      "outputs": []
    },
    {
      "cell_type": "code",
      "metadata": {
        "id": "aEhmjeOHlOtU"
      },
      "source": [
        "# our layers - you can add more if you want\n",
        "x = Flatten()(vgg.output)"
      ],
      "execution_count": null,
      "outputs": []
    },
    {
      "cell_type": "code",
      "metadata": {
        "id": "641zWCkQlQ08"
      },
      "source": [
        "prediction = Dense(len(folders), activation='softmax')(x)\n",
        "\n",
        "# create a model object\n",
        "model = Model(inputs=vgg.input, outputs=prediction)"
      ],
      "execution_count": null,
      "outputs": []
    },
    {
      "cell_type": "code",
      "metadata": {
        "colab": {
          "base_uri": "https://localhost:8080/"
        },
        "id": "ypshRvfMlTVL",
        "outputId": "7a93fca5-7bd0-4f10-bbc4-5e4c542951bf"
      },
      "source": [
        "# view the structure of the model\n",
        "model.summary()"
      ],
      "execution_count": null,
      "outputs": [
        {
          "output_type": "stream",
          "text": [
            "Model: \"model\"\n",
            "_________________________________________________________________\n",
            "Layer (type)                 Output Shape              Param #   \n",
            "=================================================================\n",
            "input_1 (InputLayer)         [(None, 224, 224, 3)]     0         \n",
            "_________________________________________________________________\n",
            "block1_conv1 (Conv2D)        (None, 224, 224, 64)      1792      \n",
            "_________________________________________________________________\n",
            "block1_conv2 (Conv2D)        (None, 224, 224, 64)      36928     \n",
            "_________________________________________________________________\n",
            "block1_pool (MaxPooling2D)   (None, 112, 112, 64)      0         \n",
            "_________________________________________________________________\n",
            "block2_conv1 (Conv2D)        (None, 112, 112, 128)     73856     \n",
            "_________________________________________________________________\n",
            "block2_conv2 (Conv2D)        (None, 112, 112, 128)     147584    \n",
            "_________________________________________________________________\n",
            "block2_pool (MaxPooling2D)   (None, 56, 56, 128)       0         \n",
            "_________________________________________________________________\n",
            "block3_conv1 (Conv2D)        (None, 56, 56, 256)       295168    \n",
            "_________________________________________________________________\n",
            "block3_conv2 (Conv2D)        (None, 56, 56, 256)       590080    \n",
            "_________________________________________________________________\n",
            "block3_conv3 (Conv2D)        (None, 56, 56, 256)       590080    \n",
            "_________________________________________________________________\n",
            "block3_pool (MaxPooling2D)   (None, 28, 28, 256)       0         \n",
            "_________________________________________________________________\n",
            "block4_conv1 (Conv2D)        (None, 28, 28, 512)       1180160   \n",
            "_________________________________________________________________\n",
            "block4_conv2 (Conv2D)        (None, 28, 28, 512)       2359808   \n",
            "_________________________________________________________________\n",
            "block4_conv3 (Conv2D)        (None, 28, 28, 512)       2359808   \n",
            "_________________________________________________________________\n",
            "block4_pool (MaxPooling2D)   (None, 14, 14, 512)       0         \n",
            "_________________________________________________________________\n",
            "block5_conv1 (Conv2D)        (None, 14, 14, 512)       2359808   \n",
            "_________________________________________________________________\n",
            "block5_conv2 (Conv2D)        (None, 14, 14, 512)       2359808   \n",
            "_________________________________________________________________\n",
            "block5_conv3 (Conv2D)        (None, 14, 14, 512)       2359808   \n",
            "_________________________________________________________________\n",
            "block5_pool (MaxPooling2D)   (None, 7, 7, 512)         0         \n",
            "_________________________________________________________________\n",
            "flatten (Flatten)            (None, 25088)             0         \n",
            "_________________________________________________________________\n",
            "dense (Dense)                (None, 3)                 75267     \n",
            "=================================================================\n",
            "Total params: 14,789,955\n",
            "Trainable params: 75,267\n",
            "Non-trainable params: 14,714,688\n",
            "_________________________________________________________________\n"
          ],
          "name": "stdout"
        }
      ]
    },
    {
      "cell_type": "code",
      "metadata": {
        "id": "AIJlokJSlWhT"
      },
      "source": [
        "# tell the model what cost and optimization method to use\n",
        "model.compile(\n",
        "  loss='categorical_crossentropy',\n",
        "  optimizer='adam',\n",
        "  metrics=['accuracy']\n",
        ")"
      ],
      "execution_count": null,
      "outputs": []
    },
    {
      "cell_type": "code",
      "metadata": {
        "id": "D1vc1nJylXiT"
      },
      "source": [
        "# Use the Image Data Generator to import the images from the dataset\n",
        "from keras.preprocessing.image import ImageDataGenerator\n",
        "\n",
        "train_datagen = ImageDataGenerator(rescale = 1./255,\n",
        "                                   shear_range = 0.2,\n",
        "                                   zoom_range = 0.2,\n",
        "                                   horizontal_flip = True)\n",
        "\n",
        "test_datagen = ImageDataGenerator(rescale = 1./255)"
      ],
      "execution_count": null,
      "outputs": []
    },
    {
      "cell_type": "code",
      "metadata": {
        "colab": {
          "base_uri": "https://localhost:8080/"
        },
        "id": "AX5kKTBcla4M",
        "outputId": "d0a80a6e-b918-4cbe-86e5-fce0ccb52e27"
      },
      "source": [
        "# Make sure you provide the same target size as initialied for the image size\n",
        "training_set = train_datagen.flow_from_directory(train_path,\n",
        "                                                 target_size = (224, 224),\n",
        "                                                 batch_size = 32,\n",
        "                                                 class_mode = 'categorical')"
      ],
      "execution_count": null,
      "outputs": [
        {
          "output_type": "stream",
          "text": [
            "Found 753 images belonging to 3 classes.\n"
          ],
          "name": "stdout"
        }
      ]
    },
    {
      "cell_type": "code",
      "metadata": {
        "colab": {
          "base_uri": "https://localhost:8080/"
        },
        "id": "BaBy-U7EldOs",
        "outputId": "27b60208-daaf-4419-a0c3-0d299932725a"
      },
      "source": [
        "test_set = test_datagen.flow_from_directory(test_path,\n",
        "                                            target_size = (224, 224),\n",
        "                                            batch_size = 32,\n",
        "                                            class_mode = 'categorical')"
      ],
      "execution_count": null,
      "outputs": [
        {
          "output_type": "stream",
          "text": [
            "Found 231 images belonging to 3 classes.\n"
          ],
          "name": "stdout"
        }
      ]
    },
    {
      "cell_type": "code",
      "metadata": {
        "colab": {
          "base_uri": "https://localhost:8080/"
        },
        "id": "jMG8HNx8lfil",
        "outputId": "c4dda021-b476-4950-c38b-03c1bab8e384"
      },
      "source": [
        "# fit the model\n",
        "# Run the cell. It will take some time to execute\n",
        "r = model.fit_generator(  \n",
        "  training_set,\n",
        "  validation_data=test_set,\n",
        "  epochs=10\n",
        " # steps_per_epoch=len(training_set),\n",
        "  #validation_steps=len(test_set)\n",
        ")"
      ],
      "execution_count": null,
      "outputs": [
        {
          "output_type": "stream",
          "text": [
            "/usr/local/lib/python3.7/dist-packages/keras/engine/training.py:1915: UserWarning: `Model.fit_generator` is deprecated and will be removed in a future version. Please use `Model.fit`, which supports generators.\n",
            "  warnings.warn('`Model.fit_generator` is deprecated and '\n"
          ],
          "name": "stderr"
        },
        {
          "output_type": "stream",
          "text": [
            "Epoch 1/10\n",
            "24/24 [==============================] - 501s 21s/step - loss: 0.1816 - accuracy: 0.9482 - val_loss: 0.9596 - val_accuracy: 0.6450\n",
            "Epoch 2/10\n",
            "24/24 [==============================] - 498s 21s/step - loss: 0.1727 - accuracy: 0.9509 - val_loss: 1.0220 - val_accuracy: 0.6537\n",
            "Epoch 3/10\n",
            "24/24 [==============================] - 501s 21s/step - loss: 0.1274 - accuracy: 0.9602 - val_loss: 1.0318 - val_accuracy: 0.6407\n",
            "Epoch 4/10\n",
            "24/24 [==============================] - 500s 21s/step - loss: 0.1200 - accuracy: 0.9681 - val_loss: 0.9281 - val_accuracy: 0.6667\n",
            "Epoch 5/10\n",
            "24/24 [==============================] - 499s 21s/step - loss: 0.0934 - accuracy: 0.9748 - val_loss: 1.0887 - val_accuracy: 0.6537\n",
            "Epoch 6/10\n",
            "24/24 [==============================] - 500s 21s/step - loss: 0.0944 - accuracy: 0.9774 - val_loss: 1.0379 - val_accuracy: 0.7229\n",
            "Epoch 7/10\n",
            "24/24 [==============================] - 499s 21s/step - loss: 0.0908 - accuracy: 0.9748 - val_loss: 1.0293 - val_accuracy: 0.7532\n",
            "Epoch 8/10\n",
            "24/24 [==============================] - 499s 21s/step - loss: 0.0993 - accuracy: 0.9681 - val_loss: 1.1409 - val_accuracy: 0.6580\n",
            "Epoch 9/10\n",
            "24/24 [==============================] - 499s 21s/step - loss: 0.0743 - accuracy: 0.9801 - val_loss: 1.2950 - val_accuracy: 0.6407\n",
            "Epoch 10/10\n",
            "24/24 [==============================] - 499s 21s/step - loss: 0.0732 - accuracy: 0.9774 - val_loss: 1.0867 - val_accuracy: 0.7359\n"
          ],
          "name": "stdout"
        }
      ]
    },
    {
      "cell_type": "code",
      "metadata": {
        "id": "Ap7eKi0_kg8-"
      },
      "source": [
        ""
      ],
      "execution_count": null,
      "outputs": []
    },
    {
      "cell_type": "code",
      "metadata": {
        "colab": {
          "base_uri": "https://localhost:8080/",
          "height": 529
        },
        "id": "-AFWbBAGliNG",
        "outputId": "55cdb109-d004-4aab-d68a-e3887f89f425"
      },
      "source": [
        "# plot the loss\n",
        "plt.plot(r.history['loss'], label='train loss')\n",
        "plt.plot(r.history['val_loss'], label='val loss')\n",
        "plt.legend()\n",
        "plt.show()\n",
        "plt.savefig('LossVal_loss')\n",
        "\n",
        "# plot the accuracy\n",
        "plt.plot(r.history['accuracy'], label='train acc')\n",
        "plt.plot(r.history['val_accuracy'], label='val acc')\n",
        "plt.legend()\n",
        "plt.show()\n",
        "plt.savefig('AccVal_acc')"
      ],
      "execution_count": null,
      "outputs": [
        {
          "output_type": "display_data",
          "data": {
            "image/png": "[encoded data removed]",
            "text/plain": [
              "<Figure size 432x288 with 1 Axes>"
            ]
          },
          "metadata": {
            "tags": []
          }
        },
        {
          "output_type": "display_data",
          "data": {
            "image/png": "[encoded data removed]",
            "text/plain": [
              "<Figure size 432x288 with 1 Axes>"
            ]
          },
          "metadata": {
            "tags": []
          }
        },
        {
          "output_type": "display_data",
          "data": {
            "text/plain": [
              "<Figure size 432x288 with 0 Axes>"
            ]
          },
          "metadata": {
            "tags": []
          }
        }
      ]
    },
    {
      "cell_type": "code",
      "metadata": {
        "id": "2aMil7PglkxN"
      },
      "source": [
        "# save it as a h5 file\n",
        "\n",
        "import tensorflow as tf\n",
        "\n",
        "from keras.models import load_model\n",
        "\n",
        "model.save('model_vgg16.h5')"
      ],
      "execution_count": null,
      "outputs": []
    },
    {
      "cell_type": "code",
      "metadata": {
        "id": "hr1E2kKflnue"
      },
      "source": [
        ""
      ],
      "execution_count": null,
      "outputs": []
    },
    {
      "cell_type": "code",
      "metadata": {
        "id": "5qo6vZPOloP3"
      },
      "source": [
        "from keras.layers import Dense, Conv2D, MaxPooling2D, Dropout, Flatten"
      ],
      "execution_count": null,
      "outputs": []
    },
    {
      "cell_type": "code",
      "metadata": {
        "id": "KUisNP_zlr7Q"
      },
      "source": [
        "def createModel():\n",
        "    model1 = Sequential()\n",
        "    # The first two layers with 32 filters of window size 3x3\n",
        "    model1.add(Conv2D(32, (3, 3), padding='same', activation='relu', input_shape=IMAGE_SIZE + [3]))\n",
        "    model1.add(Conv2D(32, (3, 3), activation='relu'))\n",
        "    model1.add(MaxPooling2D(pool_size=(2, 2)))\n",
        "    model1.add(Dropout(0.25))\n",
        "\n",
        "    model1.add(Conv2D(64, (3, 3), padding='same', activation='relu'))\n",
        "    model1.add(Conv2D(64, (3, 3), activation='relu'))\n",
        "    model1.add(MaxPooling2D(pool_size=(2, 2)))\n",
        "    model1.add(Dropout(0.25))\n",
        "\n",
        "    model1.add(Conv2D(64, (3, 3), padding='same', activation='relu'))\n",
        "    model1.add(Conv2D(64, (3, 3), activation='relu'))\n",
        "    model1.add(MaxPooling2D(pool_size=(2, 2)))\n",
        "    model1.add(Dropout(0.25))\n",
        "\n",
        "    model1.add(Flatten())\n",
        "    model1.add(Dense(512, activation='relu'))\n",
        "    model1.add(Dropout(0.5))\n",
        "    model1.add(Dense(3, activation='softmax'))\n",
        "    \n",
        "    return model1"
      ],
      "execution_count": null,
      "outputs": []
    },
    {
      "cell_type": "code",
      "metadata": {
        "id": "sLbhw3M4lurv"
      },
      "source": [
        "model2 = createModel()\n",
        "batch_size = 256\n",
        "epochs = 50\n",
        "model2.compile(optimizer='rmsprop', loss='categorical_crossentropy', metrics=['accuracy'])"
      ],
      "execution_count": null,
      "outputs": []
    },
    {
      "cell_type": "code",
      "metadata": {
        "colab": {
          "base_uri": "https://localhost:8080/"
        },
        "id": "jyrOcghulvs_",
        "outputId": "d967d8fd-cfb2-4496-e48a-8ad9e428ea0c"
      },
      "source": [
        "model2.summary()"
      ],
      "execution_count": null,
      "outputs": [
        {
          "output_type": "stream",
          "text": [
            "Model: \"sequential\"\n",
            "_________________________________________________________________\n",
            "Layer (type)                 Output Shape              Param #   \n",
            "=================================================================\n",
            "conv2d (Conv2D)              (None, 224, 224, 32)      896       \n",
            "_________________________________________________________________\n",
            "conv2d_1 (Conv2D)            (None, 222, 222, 32)      9248      \n",
            "_________________________________________________________________\n",
            "max_pooling2d (MaxPooling2D) (None, 111, 111, 32)      0         \n",
            "_________________________________________________________________\n",
            "dropout (Dropout)            (None, 111, 111, 32)      0         \n",
            "_________________________________________________________________\n",
            "conv2d_2 (Conv2D)            (None, 111, 111, 64)      18496     \n",
            "_________________________________________________________________\n",
            "conv2d_3 (Conv2D)            (None, 109, 109, 64)      36928     \n",
            "_________________________________________________________________\n",
            "max_pooling2d_1 (MaxPooling2 (None, 54, 54, 64)        0         \n",
            "_________________________________________________________________\n",
            "dropout_1 (Dropout)          (None, 54, 54, 64)        0         \n",
            "_________________________________________________________________\n",
            "conv2d_4 (Conv2D)            (None, 54, 54, 64)        36928     \n",
            "_________________________________________________________________\n",
            "conv2d_5 (Conv2D)            (None, 52, 52, 64)        36928     \n",
            "_________________________________________________________________\n",
            "max_pooling2d_2 (MaxPooling2 (None, 26, 26, 64)        0         \n",
            "_________________________________________________________________\n",
            "dropout_2 (Dropout)          (None, 26, 26, 64)        0         \n",
            "_________________________________________________________________\n",
            "flatten_1 (Flatten)          (None, 43264)             0         \n",
            "_________________________________________________________________\n",
            "dense_1 (Dense)              (None, 512)               22151680  \n",
            "_________________________________________________________________\n",
            "dropout_3 (Dropout)          (None, 512)               0         \n",
            "_________________________________________________________________\n",
            "dense_2 (Dense)              (None, 3)                 1539      \n",
            "=================================================================\n",
            "Total params: 22,292,643\n",
            "Trainable params: 22,292,643\n",
            "Non-trainable params: 0\n",
            "_________________________________________________________________\n"
          ],
          "name": "stdout"
        }
      ]
    },
    {
      "cell_type": "code",
      "metadata": {
        "colab": {
          "base_uri": "https://localhost:8080/"
        },
        "id": "jHVlF8vtl0AO",
        "outputId": "0cae917c-6f6b-46f1-ad51-3c83fa369805"
      },
      "source": [
        "r1 = model2.fit(training_set,validation_data=test_set,epochs=20)"
      ],
      "execution_count": null,
      "outputs": [
        {
          "output_type": "stream",
          "text": [
            "Epoch 1/20\n",
            "24/24 [==============================] - 268s 11s/step - loss: 1.2934 - accuracy: 0.4542 - val_loss: 0.9910 - val_accuracy: 0.5238\n",
            "Epoch 2/20\n",
            "24/24 [==============================] - 223s 9s/step - loss: 0.9795 - accuracy: 0.5166 - val_loss: 1.0049 - val_accuracy: 0.4372\n",
            "Epoch 3/20\n",
            "24/24 [==============================] - 227s 9s/step - loss: 0.9033 - accuracy: 0.5684 - val_loss: 0.9696 - val_accuracy: 0.4286\n",
            "Epoch 4/20\n",
            "24/24 [==============================] - 232s 10s/step - loss: 0.8648 - accuracy: 0.6122 - val_loss: 0.9480 - val_accuracy: 0.5238\n",
            "Epoch 5/20\n",
            "24/24 [==============================] - 223s 9s/step - loss: 0.8441 - accuracy: 0.6361 - val_loss: 0.9401 - val_accuracy: 0.6190\n",
            "Epoch 6/20\n",
            "24/24 [==============================] - 227s 9s/step - loss: 0.7458 - accuracy: 0.6879 - val_loss: 0.9850 - val_accuracy: 0.5931\n",
            "Epoch 7/20\n",
            "24/24 [==============================] - 225s 9s/step - loss: 0.7458 - accuracy: 0.6999 - val_loss: 1.0086 - val_accuracy: 0.4935\n",
            "Epoch 8/20\n",
            "24/24 [==============================] - 226s 9s/step - loss: 0.7193 - accuracy: 0.7198 - val_loss: 1.0240 - val_accuracy: 0.5584\n",
            "Epoch 9/20\n",
            "24/24 [==============================] - 224s 9s/step - loss: 0.6971 - accuracy: 0.7224 - val_loss: 0.9253 - val_accuracy: 0.5195\n",
            "Epoch 10/20\n",
            "24/24 [==============================] - 225s 9s/step - loss: 0.6997 - accuracy: 0.7012 - val_loss: 1.2366 - val_accuracy: 0.5541\n",
            "Epoch 11/20\n",
            "24/24 [==============================] - 224s 9s/step - loss: 0.6740 - accuracy: 0.7158 - val_loss: 1.0248 - val_accuracy: 0.5758\n",
            "Epoch 12/20\n",
            "24/24 [==============================] - 224s 9s/step - loss: 0.6197 - accuracy: 0.7477 - val_loss: 0.9303 - val_accuracy: 0.5238\n",
            "Epoch 13/20\n",
            "24/24 [==============================] - 224s 9s/step - loss: 0.6108 - accuracy: 0.7623 - val_loss: 1.0037 - val_accuracy: 0.4892\n",
            "Epoch 14/20\n",
            "24/24 [==============================] - 225s 9s/step - loss: 0.5638 - accuracy: 0.7822 - val_loss: 0.9883 - val_accuracy: 0.5887\n",
            "Epoch 15/20\n",
            "24/24 [==============================] - 225s 9s/step - loss: 0.5410 - accuracy: 0.7769 - val_loss: 1.0557 - val_accuracy: 0.5455\n",
            "Epoch 16/20\n",
            "24/24 [==============================] - 225s 9s/step - loss: 0.5014 - accuracy: 0.8008 - val_loss: 1.0319 - val_accuracy: 0.5714\n",
            "Epoch 17/20\n",
            "24/24 [==============================] - 223s 9s/step - loss: 0.5131 - accuracy: 0.7981 - val_loss: 1.2769 - val_accuracy: 0.5108\n",
            "Epoch 18/20\n",
            "24/24 [==============================] - 226s 9s/step - loss: 0.4901 - accuracy: 0.8048 - val_loss: 1.1084 - val_accuracy: 0.4892\n",
            "Epoch 19/20\n",
            "24/24 [==============================] - 222s 9s/step - loss: 0.4398 - accuracy: 0.8260 - val_loss: 1.1296 - val_accuracy: 0.5368\n",
            "Epoch 20/20\n",
            "24/24 [==============================] - 222s 9s/step - loss: 0.5137 - accuracy: 0.8101 - val_loss: 1.5708 - val_accuracy: 0.5584\n"
          ],
          "name": "stdout"
        }
      ]
    },
    {
      "cell_type": "code",
      "metadata": {
        "colab": {
          "base_uri": "https://localhost:8080/",
          "height": 529
        },
        "id": "Ni_FvN1vl2io",
        "outputId": "685f7426-9ab6-4402-fe3d-604e92be903b"
      },
      "source": [
        "# plot the loss\n",
        "plt.plot(r1.history['loss'], label='train loss')\n",
        "plt.plot(r1.history['val_loss'], label='val loss')\n",
        "plt.legend()\n",
        "plt.show()\n",
        "plt.savefig('LossVal_loss')\n",
        "\n",
        "# plot the accuracy\n",
        "plt.plot(r1.history['accuracy'], label='train acc')\n",
        "plt.plot(r1.history['val_accuracy'], label='val acc')\n",
        "plt.legend()\n",
        "plt.show()\n",
        "plt.savefig('AccVal_acc')"
      ],
      "execution_count": null,
      "outputs": [
        {
          "output_type": "display_data",
          "data": {
            "image/png": "[encoded data removed]",
            "text/plain": [
              "<Figure size 432x288 with 1 Axes>"
            ]
          },
          "metadata": {
            "tags": []
          }
        },
        {
          "output_type": "display_data",
          "data": {
            "image/png": "[encoded data removed]",
            "text/plain": [
              "<Figure size 432x288 with 1 Axes>"
            ]
          },
          "metadata": {
            "tags": []
          }
        },
        {
          "output_type": "display_data",
          "data": {
            "text/plain": [
              "<Figure size 432x288 with 0 Axes>"
            ]
          },
          "metadata": {
            "tags": []
          }
        }
      ]
    },
    {
      "cell_type": "code",
      "metadata": {
        "id": "xx6vj2LT27_c"
      },
      "source": [
        ""
      ],
      "execution_count": null,
      "outputs": []
    },
    {
      "cell_type": "code",
      "metadata": {
        "id": "MV9aMjOT9HoX"
      },
      "source": [
        "from tensorflow import keras"
      ],
      "execution_count": null,
      "outputs": []
    },
    {
      "cell_type": "code",
      "metadata": {
        "id": "7Qy5CBrh5Qim"
      },
      "source": [
        "lenet_5_model = keras.models.Sequential([\n",
        "    keras.layers.Conv2D(6, kernel_size=5, strides=1,  activation='tanh', input_shape=IMAGE_SIZE + [3], padding='same'), #C1\n",
        "    keras.layers.AveragePooling2D(), #S2\n",
        "    keras.layers.Conv2D(16, kernel_size=5, strides=1, activation='tanh', padding='valid'), #C3\n",
        "    keras.layers.AveragePooling2D(), #S4\n",
        "    keras.layers.Flatten(), #Flatten\n",
        "    keras.layers.Dense(120, activation='tanh'), #C5\n",
        "    keras.layers.Dense(84, activation='tanh'), #F6\n",
        "    keras.layers.Dense(3, activation='softmax') #Output layer\n",
        "])"
      ],
      "execution_count": null,
      "outputs": []
    },
    {
      "cell_type": "code",
      "metadata": {
        "colab": {
          "base_uri": "https://localhost:8080/"
        },
        "id": "3XZim7VcoDRB",
        "outputId": "8f8f5d0d-556b-4291-8733-4d1db828d1ef"
      },
      "source": [
        "lenet_5_model.summary()"
      ],
      "execution_count": null,
      "outputs": [
        {
          "output_type": "stream",
          "text": [
            "Model: \"sequential\"\n",
            "_________________________________________________________________\n",
            "Layer (type)                 Output Shape              Param #   \n",
            "=================================================================\n",
            "conv2d (Conv2D)              (None, 224, 224, 6)       456       \n",
            "_________________________________________________________________\n",
            "average_pooling2d (AveragePo (None, 112, 112, 6)       0         \n",
            "_________________________________________________________________\n",
            "conv2d_1 (Conv2D)            (None, 108, 108, 16)      2416      \n",
            "_________________________________________________________________\n",
            "average_pooling2d_1 (Average (None, 54, 54, 16)        0         \n",
            "_________________________________________________________________\n",
            "flatten (Flatten)            (None, 46656)             0         \n",
            "_________________________________________________________________\n",
            "dense (Dense)                (None, 120)               5598840   \n",
            "_________________________________________________________________\n",
            "dense_1 (Dense)              (None, 84)                10164     \n",
            "_________________________________________________________________\n",
            "dense_2 (Dense)              (None, 3)                 255       \n",
            "=================================================================\n",
            "Total params: 5,612,131\n",
            "Trainable params: 5,612,131\n",
            "Non-trainable params: 0\n",
            "_________________________________________________________________\n"
          ],
          "name": "stdout"
        }
      ]
    },
    {
      "cell_type": "code",
      "metadata": {
        "id": "PTvgIzcY6kP6"
      },
      "source": [
        "lenet_5_model.compile(optimizer='adam', loss='categorical_crossentropy', metrics=['accuracy'])"
      ],
      "execution_count": null,
      "outputs": []
    },
    {
      "cell_type": "code",
      "metadata": {
        "colab": {
          "base_uri": "https://localhost:8080/"
        },
        "id": "ru1oY2rk66gG",
        "outputId": "97efdd19-c7f7-4ff9-afc6-3df7ce041d80"
      },
      "source": [
        "#lenet_5_model.fit(train_x, train_y, epochs=5, validation_data=(val_x, val_y))\n",
        "r2 = lenet_5_model.fit(training_set,validation_data=test_set,epochs=30)"
      ],
      "execution_count": null,
      "outputs": [
        {
          "output_type": "stream",
          "text": [
            "Epoch 1/30\n",
            "24/24 [==============================] - 707s 30s/step - loss: 1.3567 - accuracy: 0.4887 - val_loss: 0.9831 - val_accuracy: 0.4329\n",
            "Epoch 2/30\n",
            "24/24 [==============================] - 47s 2s/step - loss: 0.8627 - accuracy: 0.6016 - val_loss: 0.9590 - val_accuracy: 0.4978\n",
            "Epoch 3/30\n",
            "24/24 [==============================] - 46s 2s/step - loss: 0.7953 - accuracy: 0.6799 - val_loss: 1.0627 - val_accuracy: 0.4372\n",
            "Epoch 4/30\n",
            "24/24 [==============================] - 46s 2s/step - loss: 0.8216 - accuracy: 0.6109 - val_loss: 1.0024 - val_accuracy: 0.3896\n",
            "Epoch 5/30\n",
            "24/24 [==============================] - 46s 2s/step - loss: 0.8059 - accuracy: 0.6560 - val_loss: 1.0191 - val_accuracy: 0.4372\n",
            "Epoch 6/30\n",
            "24/24 [==============================] - 46s 2s/step - loss: 0.8594 - accuracy: 0.6056 - val_loss: 0.9397 - val_accuracy: 0.5628\n",
            "Epoch 7/30\n",
            "24/24 [==============================] - 45s 2s/step - loss: 0.8304 - accuracy: 0.6348 - val_loss: 1.0081 - val_accuracy: 0.5238\n",
            "Epoch 8/30\n",
            "24/24 [==============================] - 45s 2s/step - loss: 0.8444 - accuracy: 0.5989 - val_loss: 1.0270 - val_accuracy: 0.5368\n",
            "Epoch 9/30\n",
            "24/24 [==============================] - 45s 2s/step - loss: 0.8220 - accuracy: 0.6056 - val_loss: 1.1574 - val_accuracy: 0.4892\n",
            "Epoch 10/30\n",
            "24/24 [==============================] - 45s 2s/step - loss: 0.7664 - accuracy: 0.6932 - val_loss: 0.9992 - val_accuracy: 0.5584\n",
            "Epoch 11/30\n",
            "24/24 [==============================] - 44s 2s/step - loss: 0.7660 - accuracy: 0.6946 - val_loss: 1.0527 - val_accuracy: 0.5325\n",
            "Epoch 12/30\n",
            "24/24 [==============================] - 45s 2s/step - loss: 0.7260 - accuracy: 0.7264 - val_loss: 1.1405 - val_accuracy: 0.5281\n",
            "Epoch 13/30\n",
            "24/24 [==============================] - 44s 2s/step - loss: 0.7583 - accuracy: 0.7065 - val_loss: 1.3502 - val_accuracy: 0.3463\n",
            "Epoch 14/30\n",
            "24/24 [==============================] - 44s 2s/step - loss: 0.7977 - accuracy: 0.6667 - val_loss: 1.0390 - val_accuracy: 0.5238\n",
            "Epoch 15/30\n",
            "24/24 [==============================] - 45s 2s/step - loss: 0.8198 - accuracy: 0.6707 - val_loss: 0.9408 - val_accuracy: 0.5931\n",
            "Epoch 16/30\n",
            "24/24 [==============================] - 45s 2s/step - loss: 0.7689 - accuracy: 0.7039 - val_loss: 1.0412 - val_accuracy: 0.4892\n",
            "Epoch 17/30\n",
            "24/24 [==============================] - 45s 2s/step - loss: 0.7731 - accuracy: 0.6786 - val_loss: 1.0941 - val_accuracy: 0.4113\n",
            "Epoch 18/30\n",
            "24/24 [==============================] - 44s 2s/step - loss: 0.7563 - accuracy: 0.6826 - val_loss: 1.1168 - val_accuracy: 0.3680\n",
            "Epoch 19/30\n",
            "24/24 [==============================] - 45s 2s/step - loss: 0.7180 - accuracy: 0.7145 - val_loss: 1.0697 - val_accuracy: 0.5628\n",
            "Epoch 20/30\n",
            "24/24 [==============================] - 45s 2s/step - loss: 0.7081 - accuracy: 0.7211 - val_loss: 1.0742 - val_accuracy: 0.5844\n",
            "Epoch 21/30\n",
            "24/24 [==============================] - 45s 2s/step - loss: 0.7276 - accuracy: 0.7131 - val_loss: 1.1451 - val_accuracy: 0.5065\n",
            "Epoch 22/30\n",
            "24/24 [==============================] - 45s 2s/step - loss: 0.7320 - accuracy: 0.7039 - val_loss: 1.0848 - val_accuracy: 0.5281\n",
            "Epoch 23/30\n",
            "24/24 [==============================] - 45s 2s/step - loss: 0.6740 - accuracy: 0.7503 - val_loss: 1.2103 - val_accuracy: 0.5238\n",
            "Epoch 24/30\n",
            "24/24 [==============================] - 45s 2s/step - loss: 0.7297 - accuracy: 0.7065 - val_loss: 1.2217 - val_accuracy: 0.3636\n",
            "Epoch 25/30\n",
            "24/24 [==============================] - 45s 2s/step - loss: 0.6719 - accuracy: 0.7477 - val_loss: 1.1599 - val_accuracy: 0.4892\n",
            "Epoch 26/30\n",
            "24/24 [==============================] - 44s 2s/step - loss: 0.6708 - accuracy: 0.7371 - val_loss: 1.1104 - val_accuracy: 0.5714\n",
            "Epoch 27/30\n",
            "24/24 [==============================] - 44s 2s/step - loss: 0.6689 - accuracy: 0.7384 - val_loss: 1.1837 - val_accuracy: 0.4545\n",
            "Epoch 28/30\n",
            "24/24 [==============================] - 44s 2s/step - loss: 0.6966 - accuracy: 0.7039 - val_loss: 1.4053 - val_accuracy: 0.4069\n",
            "Epoch 29/30\n",
            "24/24 [==============================] - 44s 2s/step - loss: 0.7120 - accuracy: 0.6879 - val_loss: 1.3447 - val_accuracy: 0.4199\n",
            "Epoch 30/30\n",
            "24/24 [==============================] - 44s 2s/step - loss: 0.7373 - accuracy: 0.7105 - val_loss: 1.2763 - val_accuracy: 0.4762\n"
          ],
          "name": "stdout"
        }
      ]
    },
    {
      "cell_type": "code",
      "metadata": {
        "colab": {
          "base_uri": "https://localhost:8080/",
          "height": 529
        },
        "id": "hCoD9pcxDvjj",
        "outputId": "219d3f29-4b8a-4175-ba52-9942b85cf43e"
      },
      "source": [
        "# plot the loss\n",
        "plt.plot(r2.history['loss'], label='train loss')\n",
        "plt.plot(r2.history['val_loss'], label='val loss')\n",
        "plt.legend()\n",
        "plt.show()\n",
        "plt.savefig('LossVal_loss')\n",
        "\n",
        "# plot the accuracy\n",
        "plt.plot(r2.history['accuracy'], label='train acc')\n",
        "plt.plot(r2.history['val_accuracy'], label='val acc')\n",
        "plt.legend()\n",
        "plt.show()\n",
        "plt.savefig('AccVal_acc')"
      ],
      "execution_count": null,
      "outputs": [
        {
          "output_type": "display_data",
          "data": {
            "image/png": "[encoded data removed]",
            "text/plain": [
              "<Figure size 432x288 with 1 Axes>"
            ]
          },
          "metadata": {
            "tags": []
          }
        },
        {
          "output_type": "display_data",
          "data": {
            "image/png": "[encoded data removed]",
            "text/plain": [
              "<Figure size 432x288 with 1 Axes>"
            ]
          },
          "metadata": {
            "tags": []
          }
        },
        {
          "output_type": "display_data",
          "data": {
            "text/plain": [
              "<Figure size 432x288 with 0 Axes>"
            ]
          },
          "metadata": {
            "tags": []
          }
        }
      ]
    },
    {
      "cell_type": "code",
      "metadata": {
        "id": "Wa0ACBDKRsKC"
      },
      "source": [
        ""
      ],
      "execution_count": null,
      "outputs": []
    },
    {
      "cell_type": "code",
      "metadata": {
        "id": "LWRMjkqMkisV"
      },
      "source": [
        ""
      ],
      "execution_count": null,
      "outputs": []
    },
    {
      "cell_type": "code",
      "metadata": {
        "id": "PfRNZoCmkjpF"
      },
      "source": [
        "alexnet = keras.models.Sequential([\n",
        "    keras.layers.Conv2D(filters=96, kernel_size=(11,11), strides=(4,4), activation='relu', input_shape=IMAGE_SIZE + [3]),\n",
        "    keras.layers.BatchNormalization(),\n",
        "    keras.layers.MaxPool2D(pool_size=(3,3), strides=(2,2)),\n",
        "    keras.layers.Conv2D(filters=256, kernel_size=(5,5), strides=(1,1), activation='relu', padding=\"same\"),\n",
        "    keras.layers.BatchNormalization(),\n",
        "    keras.layers.MaxPool2D(pool_size=(3,3), strides=(2,2)),\n",
        "    keras.layers.Conv2D(filters=384, kernel_size=(3,3), strides=(1,1), activation='relu', padding=\"same\"),\n",
        "    keras.layers.BatchNormalization(),\n",
        "    keras.layers.Conv2D(filters=384, kernel_size=(3,3), strides=(1,1), activation='relu', padding=\"same\"),\n",
        "    keras.layers.BatchNormalization(),\n",
        "    keras.layers.Conv2D(filters=256, kernel_size=(3,3), strides=(1,1), activation='relu', padding=\"same\"),\n",
        "    keras.layers.BatchNormalization(),\n",
        "    keras.layers.MaxPool2D(pool_size=(3,3), strides=(2,2)),\n",
        "    keras.layers.Flatten(),\n",
        "    keras.layers.Dense(4096, activation='relu'),\n",
        "    keras.layers.Dropout(0.5),\n",
        "    keras.layers.Dense(4096, activation='relu'),\n",
        "    keras.layers.Dropout(0.5),\n",
        "    keras.layers.Dense(3, activation='softmax')\n",
        "])"
      ],
      "execution_count": null,
      "outputs": []
    },
    {
      "cell_type": "code",
      "metadata": {
        "colab": {
          "base_uri": "https://localhost:8080/"
        },
        "id": "zdoQUeipoK3u",
        "outputId": "f0ae8a4a-191d-4c02-9420-7e9b1ba4a49c"
      },
      "source": [
        "alexnet.summary()"
      ],
      "execution_count": null,
      "outputs": [
        {
          "output_type": "stream",
          "text": [
            "Model: \"sequential_4\"\n",
            "_________________________________________________________________\n",
            "Layer (type)                 Output Shape              Param #   \n",
            "=================================================================\n",
            "conv2d_17 (Conv2D)           (None, 54, 54, 96)        34944     \n",
            "_________________________________________________________________\n",
            "batch_normalization_15 (Batc (None, 54, 54, 96)        384       \n",
            "_________________________________________________________________\n",
            "max_pooling2d_9 (MaxPooling2 (None, 26, 26, 96)        0         \n",
            "_________________________________________________________________\n",
            "conv2d_18 (Conv2D)           (None, 26, 26, 256)       614656    \n",
            "_________________________________________________________________\n",
            "batch_normalization_16 (Batc (None, 26, 26, 256)       1024      \n",
            "_________________________________________________________________\n",
            "max_pooling2d_10 (MaxPooling (None, 12, 12, 256)       0         \n",
            "_________________________________________________________________\n",
            "conv2d_19 (Conv2D)           (None, 12, 12, 384)       885120    \n",
            "_________________________________________________________________\n",
            "batch_normalization_17 (Batc (None, 12, 12, 384)       1536      \n",
            "_________________________________________________________________\n",
            "conv2d_20 (Conv2D)           (None, 12, 12, 384)       1327488   \n",
            "_________________________________________________________________\n",
            "batch_normalization_18 (Batc (None, 12, 12, 384)       1536      \n",
            "_________________________________________________________________\n",
            "conv2d_21 (Conv2D)           (None, 12, 12, 256)       884992    \n",
            "_________________________________________________________________\n",
            "batch_normalization_19 (Batc (None, 12, 12, 256)       1024      \n",
            "_________________________________________________________________\n",
            "max_pooling2d_11 (MaxPooling (None, 5, 5, 256)         0         \n",
            "_________________________________________________________________\n",
            "flatten_8 (Flatten)          (None, 6400)              0         \n",
            "_________________________________________________________________\n",
            "dense_13 (Dense)             (None, 4096)              26218496  \n",
            "_________________________________________________________________\n",
            "dropout_6 (Dropout)          (None, 4096)              0         \n",
            "_________________________________________________________________\n",
            "dense_14 (Dense)             (None, 4096)              16781312  \n",
            "_________________________________________________________________\n",
            "dropout_7 (Dropout)          (None, 4096)              0         \n",
            "_________________________________________________________________\n",
            "dense_15 (Dense)             (None, 3)                 12291     \n",
            "=================================================================\n",
            "Total params: 46,764,803\n",
            "Trainable params: 46,762,051\n",
            "Non-trainable params: 2,752\n",
            "_________________________________________________________________\n"
          ],
          "name": "stdout"
        }
      ]
    },
    {
      "cell_type": "code",
      "metadata": {
        "id": "6yGsXVIVmh2D"
      },
      "source": [
        "import tensorflow as tf"
      ],
      "execution_count": null,
      "outputs": []
    },
    {
      "cell_type": "code",
      "metadata": {
        "id": "PA04O4vQmB4e"
      },
      "source": [
        "alexnet.compile(optimizer='adam', loss='categorical_crossentropy', metrics=['accuracy'])"
      ],
      "execution_count": null,
      "outputs": []
    },
    {
      "cell_type": "code",
      "metadata": {
        "colab": {
          "base_uri": "https://localhost:8080/"
        },
        "id": "vxarC-RTmaTl",
        "outputId": "ab942be0-c270-463b-a10b-54599c472d98"
      },
      "source": [
        "r3 = alexnet.fit(training_set,validation_data=test_set,epochs=30)"
      ],
      "execution_count": null,
      "outputs": [
        {
          "output_type": "stream",
          "text": [
            "Epoch 1/30\n",
            "24/24 [==============================] - 126s 5s/step - loss: 0.9161 - accuracy: 0.6375 - val_loss: 32.7493 - val_accuracy: 0.5238\n",
            "Epoch 2/30\n",
            "24/24 [==============================] - 125s 5s/step - loss: 0.9632 - accuracy: 0.6534 - val_loss: 19.2190 - val_accuracy: 0.5238\n",
            "Epoch 3/30\n",
            "24/24 [==============================] - 127s 5s/step - loss: 0.8868 - accuracy: 0.6428 - val_loss: 2.3734 - val_accuracy: 0.5671\n",
            "Epoch 4/30\n",
            "24/24 [==============================] - 126s 5s/step - loss: 0.8989 - accuracy: 0.6308 - val_loss: 1.1107 - val_accuracy: 0.5455\n",
            "Epoch 5/30\n",
            "24/24 [==============================] - 126s 5s/step - loss: 0.6825 - accuracy: 0.7105 - val_loss: 6.0596 - val_accuracy: 0.5238\n",
            "Epoch 6/30\n",
            "24/24 [==============================] - 127s 5s/step - loss: 0.8223 - accuracy: 0.6946 - val_loss: 88.7044 - val_accuracy: 0.5238\n",
            "Epoch 7/30\n",
            "24/24 [==============================] - 127s 5s/step - loss: 0.8372 - accuracy: 0.6773 - val_loss: 6.1449 - val_accuracy: 0.5238\n",
            "Epoch 8/30\n",
            "24/24 [==============================] - 127s 5s/step - loss: 0.6858 - accuracy: 0.6999 - val_loss: 6.4279 - val_accuracy: 0.3939\n",
            "Epoch 9/30\n",
            "24/24 [==============================] - 127s 5s/step - loss: 0.8328 - accuracy: 0.6667 - val_loss: 12.0553 - val_accuracy: 0.5238\n",
            "Epoch 10/30\n",
            "24/24 [==============================] - 126s 5s/step - loss: 0.8795 - accuracy: 0.6388 - val_loss: 1.2009 - val_accuracy: 0.5671\n",
            "Epoch 11/30\n",
            "24/24 [==============================] - 127s 5s/step - loss: 0.6687 - accuracy: 0.7105 - val_loss: 1.0018 - val_accuracy: 0.5152\n",
            "Epoch 12/30\n",
            "24/24 [==============================] - 126s 5s/step - loss: 0.5773 - accuracy: 0.7503 - val_loss: 3.2282 - val_accuracy: 0.3680\n",
            "Epoch 13/30\n",
            "24/24 [==============================] - 126s 5s/step - loss: 0.6767 - accuracy: 0.7078 - val_loss: 1.3223 - val_accuracy: 0.5238\n",
            "Epoch 14/30\n",
            "24/24 [==============================] - 127s 5s/step - loss: 0.7271 - accuracy: 0.7052 - val_loss: 1.1553 - val_accuracy: 0.5281\n",
            "Epoch 15/30\n",
            "24/24 [==============================] - 126s 5s/step - loss: 0.5667 - accuracy: 0.7676 - val_loss: 1.1369 - val_accuracy: 0.6623\n",
            "Epoch 16/30\n",
            "24/24 [==============================] - 126s 5s/step - loss: 0.5410 - accuracy: 0.7583 - val_loss: 1.0946 - val_accuracy: 0.6710\n",
            "Epoch 17/30\n",
            "24/24 [==============================] - 126s 5s/step - loss: 0.6077 - accuracy: 0.7437 - val_loss: 71.9173 - val_accuracy: 0.5238\n",
            "Epoch 18/30\n",
            "24/24 [==============================] - 127s 5s/step - loss: 0.9058 - accuracy: 0.6892 - val_loss: 70.5835 - val_accuracy: 0.5238\n",
            "Epoch 19/30\n",
            "24/24 [==============================] - 128s 5s/step - loss: 0.6644 - accuracy: 0.7397 - val_loss: 286.0008 - val_accuracy: 0.5238\n",
            "Epoch 20/30\n",
            "24/24 [==============================] - 126s 5s/step - loss: 0.5969 - accuracy: 0.7636 - val_loss: 1.1966 - val_accuracy: 0.6061\n",
            "Epoch 21/30\n",
            "24/24 [==============================] - 126s 5s/step - loss: 0.5656 - accuracy: 0.7636 - val_loss: 97.8989 - val_accuracy: 0.5238\n",
            "Epoch 22/30\n",
            "24/24 [==============================] - 127s 5s/step - loss: 0.5025 - accuracy: 0.7968 - val_loss: 2.6139 - val_accuracy: 0.7143\n",
            "Epoch 23/30\n",
            "24/24 [==============================] - 126s 5s/step - loss: 0.4856 - accuracy: 0.7809 - val_loss: 2.6219 - val_accuracy: 0.6970\n",
            "Epoch 24/30\n",
            "24/24 [==============================] - 126s 5s/step - loss: 0.6032 - accuracy: 0.7636 - val_loss: 7.7107 - val_accuracy: 0.6580\n",
            "Epoch 25/30\n",
            "24/24 [==============================] - 126s 5s/step - loss: 0.7241 - accuracy: 0.7224 - val_loss: 2.9256 - val_accuracy: 0.4372\n",
            "Epoch 26/30\n",
            "24/24 [==============================] - 125s 5s/step - loss: 0.6844 - accuracy: 0.7384 - val_loss: 1.8549 - val_accuracy: 0.6667\n",
            "Epoch 27/30\n",
            "24/24 [==============================] - 126s 5s/step - loss: 0.5370 - accuracy: 0.7809 - val_loss: 7.2441 - val_accuracy: 0.7359\n",
            "Epoch 28/30\n",
            "24/24 [==============================] - 126s 5s/step - loss: 0.5205 - accuracy: 0.7862 - val_loss: 3.5963 - val_accuracy: 0.7446\n",
            "Epoch 29/30\n",
            "24/24 [==============================] - 126s 5s/step - loss: 0.4588 - accuracy: 0.8035 - val_loss: 7.9775 - val_accuracy: 0.6970\n",
            "Epoch 30/30\n",
            "24/24 [==============================] - 125s 5s/step - loss: 0.4581 - accuracy: 0.8114 - val_loss: 4.4983 - val_accuracy: 0.7792\n"
          ],
          "name": "stdout"
        }
      ]
    },
    {
      "cell_type": "code",
      "metadata": {
        "colab": {
          "base_uri": "https://localhost:8080/",
          "height": 534
        },
        "id": "tW2rxwdTmtpI",
        "outputId": "b7e0c12b-f3f8-46b5-d631-be5c3f3c811a"
      },
      "source": [
        "# plot the loss\n",
        "plt.plot(r3.history['loss'], label='train loss')\n",
        "plt.plot(r3.history['val_loss'], label='val loss')\n",
        "plt.legend()\n",
        "plt.show()\n",
        "plt.savefig('LossVal_loss')\n",
        "\n",
        "# plot the accuracy\n",
        "plt.plot(r3.history['accuracy'], label='train acc')\n",
        "plt.plot(r3.history['val_accuracy'], label='val acc')\n",
        "plt.legend()\n",
        "plt.show()\n",
        "plt.savefig('AccVal_acc')"
      ],
      "execution_count": null,
      "outputs": [
        {
          "output_type": "display_data",
          "data": {
            "image/png": "[encoded data removed]",
            "text/plain": [
              "<Figure size 432x288 with 1 Axes>"
            ]
          },
          "metadata": {
            "tags": []
          }
        },
        {
          "output_type": "display_data",
          "data": {
            "image/png": "[encoded data removed]",
            "text/plain": [
              "<Figure size 432x288 with 1 Axes>"
            ]
          },
          "metadata": {
            "tags": []
          }
        },
        {
          "output_type": "display_data",
          "data": {
            "text/plain": [
              "<Figure size 432x288 with 0 Axes>"
            ]
          },
          "metadata": {
            "tags": []
          }
        }
      ]
    },
    {
      "cell_type": "code",
      "metadata": {
        "id": "anyc_T3gE91E"
      },
      "source": [
        ""
      ],
      "execution_count": null,
      "outputs": []
    },
    {
      "cell_type": "code",
      "metadata": {
        "id": "fPtbrHrLKBvb"
      },
      "source": [
        ""
      ],
      "execution_count": null,
      "outputs": []
    },
    {
      "cell_type": "code",
      "metadata": {
        "id": "JhaEmD2KKBy6"
      },
      "source": [
        "#Vgg"
      ],
      "execution_count": null,
      "outputs": []
    },
    {
      "cell_type": "code",
      "metadata": {
        "colab": {
          "background_save": true,
          "base_uri": "https://localhost:8080/"
        },
        "id": "-gfgGmtRKB3y",
        "outputId": "52ef7cd4-a7fb-4465-c675-12ebaa65e151"
      },
      "source": [
        "r = model.fit_generator(\n",
        "  training_set,\n",
        "  validation_data=test_set,\n",
        "  epochs=30\n",
        " # steps_per_epoch=len(training_set),\n",
        "  #validation_steps=len(test_set)\n",
        ")"
      ],
      "execution_count": null,
      "outputs": [
        {
          "output_type": "stream",
          "text": [
            "/usr/local/lib/python3.7/dist-packages/keras/engine/training.py:1915: UserWarning: `Model.fit_generator` is deprecated and will be removed in a future version. Please use `Model.fit`, which supports generators.\n",
            "  warnings.warn('`Model.fit_generator` is deprecated and '\n"
          ],
          "name": "stderr"
        },
        {
          "output_type": "stream",
          "text": [
            "Epoch 1/30\n",
            " 5/24 [=====>........................] - ETA: 4:03 - loss: 0.0266 - accuracy: 0.9931"
          ],
          "name": "stdout"
        },
        {
          "output_type": "error",
          "ename": "KeyboardInterrupt",
          "evalue": "ignored",
          "traceback": [
            "\u001b[0;31m---------------------------------------------------------------------------\u001b[0m",
            "\u001b[0;31mKeyboardInterrupt\u001b[0m                         Traceback (most recent call last)",
            "\u001b[0;32m<ipython-input-16-a57ef5d5fab3>\u001b[0m in \u001b[0;36m<module>\u001b[0;34m()\u001b[0m\n\u001b[1;32m      2\u001b[0m   \u001b[0mtraining_set\u001b[0m\u001b[0;34m,\u001b[0m\u001b[0;34m\u001b[0m\u001b[0;34m\u001b[0m\u001b[0m\n\u001b[1;32m      3\u001b[0m   \u001b[0mvalidation_data\u001b[0m\u001b[0;34m=\u001b[0m\u001b[0mtest_set\u001b[0m\u001b[0;34m,\u001b[0m\u001b[0;34m\u001b[0m\u001b[0;34m\u001b[0m\u001b[0m\n\u001b[0;32m----> 4\u001b[0;31m   \u001b[0mepochs\u001b[0m\u001b[0;34m=\u001b[0m\u001b[0;36m30\u001b[0m\u001b[0;34m\u001b[0m\u001b[0;34m\u001b[0m\u001b[0m\n\u001b[0m\u001b[1;32m      5\u001b[0m  \u001b[0;31m# steps_per_epoch=len(training_set),\u001b[0m\u001b[0;34m\u001b[0m\u001b[0;34m\u001b[0m\u001b[0;34m\u001b[0m\u001b[0m\n\u001b[1;32m      6\u001b[0m   \u001b[0;31m#validation_steps=len(test_set)\u001b[0m\u001b[0;34m\u001b[0m\u001b[0;34m\u001b[0m\u001b[0;34m\u001b[0m\u001b[0m\n",
            "\u001b[0;32m/usr/local/lib/python3.7/dist-packages/keras/engine/training.py\u001b[0m in \u001b[0;36mfit_generator\u001b[0;34m(self, generator, steps_per_epoch, epochs, verbose, callbacks, validation_data, validation_steps, validation_freq, class_weight, max_queue_size, workers, use_multiprocessing, shuffle, initial_epoch)\u001b[0m\n\u001b[1;32m   1930\u001b[0m         \u001b[0muse_multiprocessing\u001b[0m\u001b[0;34m=\u001b[0m\u001b[0muse_multiprocessing\u001b[0m\u001b[0;34m,\u001b[0m\u001b[0;34m\u001b[0m\u001b[0;34m\u001b[0m\u001b[0m\n\u001b[1;32m   1931\u001b[0m         \u001b[0mshuffle\u001b[0m\u001b[0;34m=\u001b[0m\u001b[0mshuffle\u001b[0m\u001b[0;34m,\u001b[0m\u001b[0;34m\u001b[0m\u001b[0;34m\u001b[0m\u001b[0m\n\u001b[0;32m-> 1932\u001b[0;31m         initial_epoch=initial_epoch)\n\u001b[0m\u001b[1;32m   1933\u001b[0m \u001b[0;34m\u001b[0m\u001b[0m\n\u001b[1;32m   1934\u001b[0m   def evaluate_generator(self,\n",
            "\u001b[0;32m/usr/local/lib/python3.7/dist-packages/keras/engine/training.py\u001b[0m in \u001b[0;36mfit\u001b[0;34m(self, x, y, batch_size, epochs, verbose, callbacks, validation_split, validation_data, shuffle, class_weight, sample_weight, initial_epoch, steps_per_epoch, validation_steps, validation_batch_size, validation_freq, max_queue_size, workers, use_multiprocessing)\u001b[0m\n\u001b[1;32m   1156\u001b[0m                 _r=1):\n\u001b[1;32m   1157\u001b[0m               \u001b[0mcallbacks\u001b[0m\u001b[0;34m.\u001b[0m\u001b[0mon_train_batch_begin\u001b[0m\u001b[0;34m(\u001b[0m\u001b[0mstep\u001b[0m\u001b[0;34m)\u001b[0m\u001b[0;34m\u001b[0m\u001b[0;34m\u001b[0m\u001b[0m\n\u001b[0;32m-> 1158\u001b[0;31m               \u001b[0mtmp_logs\u001b[0m \u001b[0;34m=\u001b[0m \u001b[0mself\u001b[0m\u001b[0;34m.\u001b[0m\u001b[0mtrain_function\u001b[0m\u001b[0;34m(\u001b[0m\u001b[0miterator\u001b[0m\u001b[0;34m)\u001b[0m\u001b[0;34m\u001b[0m\u001b[0;34m\u001b[0m\u001b[0m\n\u001b[0m\u001b[1;32m   1159\u001b[0m               \u001b[0;32mif\u001b[0m \u001b[0mdata_handler\u001b[0m\u001b[0;34m.\u001b[0m\u001b[0mshould_sync\u001b[0m\u001b[0;34m:\u001b[0m\u001b[0;34m\u001b[0m\u001b[0;34m\u001b[0m\u001b[0m\n\u001b[1;32m   1160\u001b[0m                 \u001b[0mcontext\u001b[0m\u001b[0;34m.\u001b[0m\u001b[0masync_wait\u001b[0m\u001b[0;34m(\u001b[0m\u001b[0;34m)\u001b[0m\u001b[0;34m\u001b[0m\u001b[0;34m\u001b[0m\u001b[0m\n",
            "\u001b[0;32m/usr/local/lib/python3.7/dist-packages/tensorflow/python/eager/def_function.py\u001b[0m in \u001b[0;36m__call__\u001b[0;34m(self, *args, **kwds)\u001b[0m\n\u001b[1;32m    887\u001b[0m \u001b[0;34m\u001b[0m\u001b[0m\n\u001b[1;32m    888\u001b[0m       \u001b[0;32mwith\u001b[0m \u001b[0mOptionalXlaContext\u001b[0m\u001b[0;34m(\u001b[0m\u001b[0mself\u001b[0m\u001b[0;34m.\u001b[0m\u001b[0m_jit_compile\u001b[0m\u001b[0;34m)\u001b[0m\u001b[0;34m:\u001b[0m\u001b[0;34m\u001b[0m\u001b[0;34m\u001b[0m\u001b[0m\n\u001b[0;32m--> 889\u001b[0;31m         \u001b[0mresult\u001b[0m \u001b[0;34m=\u001b[0m \u001b[0mself\u001b[0m\u001b[0;34m.\u001b[0m\u001b[0m_call\u001b[0m\u001b[0;34m(\u001b[0m\u001b[0;34m*\u001b[0m\u001b[0margs\u001b[0m\u001b[0;34m,\u001b[0m \u001b[0;34m**\u001b[0m\u001b[0mkwds\u001b[0m\u001b[0;34m)\u001b[0m\u001b[0;34m\u001b[0m\u001b[0;34m\u001b[0m\u001b[0m\n\u001b[0m\u001b[1;32m    890\u001b[0m \u001b[0;34m\u001b[0m\u001b[0m\n\u001b[1;32m    891\u001b[0m       \u001b[0mnew_tracing_count\u001b[0m \u001b[0;34m=\u001b[0m \u001b[0mself\u001b[0m\u001b[0;34m.\u001b[0m\u001b[0mexperimental_get_tracing_count\u001b[0m\u001b[0;34m(\u001b[0m\u001b[0;34m)\u001b[0m\u001b[0;34m\u001b[0m\u001b[0;34m\u001b[0m\u001b[0m\n",
            "\u001b[0;32m/usr/local/lib/python3.7/dist-packages/tensorflow/python/eager/def_function.py\u001b[0m in \u001b[0;36m_call\u001b[0;34m(self, *args, **kwds)\u001b[0m\n\u001b[1;32m    915\u001b[0m       \u001b[0;31m# In this case we have created variables on the first call, so we run the\u001b[0m\u001b[0;34m\u001b[0m\u001b[0;34m\u001b[0m\u001b[0;34m\u001b[0m\u001b[0m\n\u001b[1;32m    916\u001b[0m       \u001b[0;31m# defunned version which is guaranteed to never create variables.\u001b[0m\u001b[0;34m\u001b[0m\u001b[0;34m\u001b[0m\u001b[0;34m\u001b[0m\u001b[0m\n\u001b[0;32m--> 917\u001b[0;31m       \u001b[0;32mreturn\u001b[0m \u001b[0mself\u001b[0m\u001b[0;34m.\u001b[0m\u001b[0m_stateless_fn\u001b[0m\u001b[0;34m(\u001b[0m\u001b[0;34m*\u001b[0m\u001b[0margs\u001b[0m\u001b[0;34m,\u001b[0m \u001b[0;34m**\u001b[0m\u001b[0mkwds\u001b[0m\u001b[0;34m)\u001b[0m  \u001b[0;31m# pylint: disable=not-callable\u001b[0m\u001b[0;34m\u001b[0m\u001b[0;34m\u001b[0m\u001b[0m\n\u001b[0m\u001b[1;32m    918\u001b[0m     \u001b[0;32melif\u001b[0m \u001b[0mself\u001b[0m\u001b[0;34m.\u001b[0m\u001b[0m_stateful_fn\u001b[0m \u001b[0;32mis\u001b[0m \u001b[0;32mnot\u001b[0m \u001b[0;32mNone\u001b[0m\u001b[0;34m:\u001b[0m\u001b[0;34m\u001b[0m\u001b[0;34m\u001b[0m\u001b[0m\n\u001b[1;32m    919\u001b[0m       \u001b[0;31m# Release the lock early so that multiple threads can perform the call\u001b[0m\u001b[0;34m\u001b[0m\u001b[0;34m\u001b[0m\u001b[0;34m\u001b[0m\u001b[0m\n",
            "\u001b[0;32m/usr/local/lib/python3.7/dist-packages/tensorflow/python/eager/function.py\u001b[0m in \u001b[0;36m__call__\u001b[0;34m(self, *args, **kwargs)\u001b[0m\n\u001b[1;32m   3022\u001b[0m        filtered_flat_args) = self._maybe_define_function(args, kwargs)\n\u001b[1;32m   3023\u001b[0m     return graph_function._call_flat(\n\u001b[0;32m-> 3024\u001b[0;31m         filtered_flat_args, captured_inputs=graph_function.captured_inputs)  # pylint: disable=protected-access\n\u001b[0m\u001b[1;32m   3025\u001b[0m \u001b[0;34m\u001b[0m\u001b[0m\n\u001b[1;32m   3026\u001b[0m   \u001b[0;34m@\u001b[0m\u001b[0mproperty\u001b[0m\u001b[0;34m\u001b[0m\u001b[0;34m\u001b[0m\u001b[0m\n",
            "\u001b[0;32m/usr/local/lib/python3.7/dist-packages/tensorflow/python/eager/function.py\u001b[0m in \u001b[0;36m_call_flat\u001b[0;34m(self, args, captured_inputs, cancellation_manager)\u001b[0m\n\u001b[1;32m   1959\u001b[0m       \u001b[0;31m# No tape is watching; skip to running the function.\u001b[0m\u001b[0;34m\u001b[0m\u001b[0;34m\u001b[0m\u001b[0;34m\u001b[0m\u001b[0m\n\u001b[1;32m   1960\u001b[0m       return self._build_call_outputs(self._inference_function.call(\n\u001b[0;32m-> 1961\u001b[0;31m           ctx, args, cancellation_manager=cancellation_manager))\n\u001b[0m\u001b[1;32m   1962\u001b[0m     forward_backward = self._select_forward_and_backward_functions(\n\u001b[1;32m   1963\u001b[0m         \u001b[0margs\u001b[0m\u001b[0;34m,\u001b[0m\u001b[0;34m\u001b[0m\u001b[0;34m\u001b[0m\u001b[0m\n",
            "\u001b[0;32m/usr/local/lib/python3.7/dist-packages/tensorflow/python/eager/function.py\u001b[0m in \u001b[0;36mcall\u001b[0;34m(self, ctx, args, cancellation_manager)\u001b[0m\n\u001b[1;32m    594\u001b[0m               \u001b[0minputs\u001b[0m\u001b[0;34m=\u001b[0m\u001b[0margs\u001b[0m\u001b[0;34m,\u001b[0m\u001b[0;34m\u001b[0m\u001b[0;34m\u001b[0m\u001b[0m\n\u001b[1;32m    595\u001b[0m               \u001b[0mattrs\u001b[0m\u001b[0;34m=\u001b[0m\u001b[0mattrs\u001b[0m\u001b[0;34m,\u001b[0m\u001b[0;34m\u001b[0m\u001b[0;34m\u001b[0m\u001b[0m\n\u001b[0;32m--> 596\u001b[0;31m               ctx=ctx)\n\u001b[0m\u001b[1;32m    597\u001b[0m         \u001b[0;32melse\u001b[0m\u001b[0;34m:\u001b[0m\u001b[0;34m\u001b[0m\u001b[0;34m\u001b[0m\u001b[0m\n\u001b[1;32m    598\u001b[0m           outputs = execute.execute_with_cancellation(\n",
            "\u001b[0;32m/usr/local/lib/python3.7/dist-packages/tensorflow/python/eager/execute.py\u001b[0m in \u001b[0;36mquick_execute\u001b[0;34m(op_name, num_outputs, inputs, attrs, ctx, name)\u001b[0m\n\u001b[1;32m     58\u001b[0m     \u001b[0mctx\u001b[0m\u001b[0;34m.\u001b[0m\u001b[0mensure_initialized\u001b[0m\u001b[0;34m(\u001b[0m\u001b[0;34m)\u001b[0m\u001b[0;34m\u001b[0m\u001b[0;34m\u001b[0m\u001b[0m\n\u001b[1;32m     59\u001b[0m     tensors = pywrap_tfe.TFE_Py_Execute(ctx._handle, device_name, op_name,\n\u001b[0;32m---> 60\u001b[0;31m                                         inputs, attrs, num_outputs)\n\u001b[0m\u001b[1;32m     61\u001b[0m   \u001b[0;32mexcept\u001b[0m \u001b[0mcore\u001b[0m\u001b[0;34m.\u001b[0m\u001b[0m_NotOkStatusException\u001b[0m \u001b[0;32mas\u001b[0m \u001b[0me\u001b[0m\u001b[0;34m:\u001b[0m\u001b[0;34m\u001b[0m\u001b[0;34m\u001b[0m\u001b[0m\n\u001b[1;32m     62\u001b[0m     \u001b[0;32mif\u001b[0m \u001b[0mname\u001b[0m \u001b[0;32mis\u001b[0m \u001b[0;32mnot\u001b[0m \u001b[0;32mNone\u001b[0m\u001b[0;34m:\u001b[0m\u001b[0;34m\u001b[0m\u001b[0;34m\u001b[0m\u001b[0m\n",
            "\u001b[0;31mKeyboardInterrupt\u001b[0m: "
          ]
        }
      ]
    },
    {
      "cell_type": "code",
      "metadata": {
        "id": "8KLz8CQuKFel"
      },
      "source": [
        ""
      ],
      "execution_count": null,
      "outputs": []
    }
  ]
}